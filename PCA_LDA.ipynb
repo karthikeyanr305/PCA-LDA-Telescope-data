{
 "cells": [
  {
   "cell_type": "markdown",
   "metadata": {},
   "source": [
    "# Dataset information\n",
    "\n",
    "MAGIC Gamma Telescope Data Set (Target_variable: class: g,h # gamma (signal), hadron (background))\n",
    "\n",
    "Link: https://archive.ics.uci.edu/ml/datasets/magic%2Bgamma%2Btelescope\n",
    "\n",
    "Features to use -> {fLength, fWidth, fSize, fConc}\n"
   ]
  },
  {
   "cell_type": "code",
   "execution_count": 1,
   "metadata": {
    "id": "ptG7Gf_CJ9aC"
   },
   "outputs": [],
   "source": [
    "# imports\n",
    "import pandas as pd\n",
    "import numpy as np\n",
    "import math\n",
    "from sklearn.preprocessing import StandardScaler\n",
    "import matplotlib.pyplot as plt\n",
    "\n",
    "%matplotlib inline"
   ]
  },
  {
   "cell_type": "markdown",
   "metadata": {
    "id": "jn4k__-jKTnP"
   },
   "source": [
    "Step 1: load the dataset"
   ]
  },
  {
   "cell_type": "code",
   "execution_count": 2,
   "metadata": {
    "id": "SBkf5uzUKOk0"
   },
   "outputs": [],
   "source": [
    "# loads csv file into pandas dataframe\n",
    "df = pd.read_csv('telescope.csv')\n",
    "del df['Unnamed: 0']"
   ]
  },
  {
   "cell_type": "code",
   "execution_count": 3,
   "metadata": {},
   "outputs": [
    {
     "data": {
      "text/plain": [
       "fLength     0\n",
       "fWidth      0\n",
       "fSize       0\n",
       "fConc       0\n",
       "fConc1      0\n",
       "fAsym       0\n",
       "fM3Long     0\n",
       "fM3Trans    0\n",
       "fAlpha      0\n",
       "fDist       0\n",
       "class       0\n",
       "dtype: int64"
      ]
     },
     "execution_count": 3,
     "metadata": {},
     "output_type": "execute_result"
    }
   ],
   "source": [
    "df.isnull().sum()"
   ]
  },
  {
   "cell_type": "code",
   "execution_count": 4,
   "metadata": {},
   "outputs": [
    {
     "data": {
      "text/plain": [
       "Index(['fLength', 'fWidth', 'fSize', 'fConc', 'fConc1', 'fAsym', 'fM3Long',\n",
       "       'fM3Trans', 'fAlpha', 'fDist', 'class'],\n",
       "      dtype='object')"
      ]
     },
     "execution_count": 4,
     "metadata": {},
     "output_type": "execute_result"
    }
   ],
   "source": [
    "df.columns"
   ]
  },
  {
   "cell_type": "code",
   "execution_count": 5,
   "metadata": {},
   "outputs": [],
   "source": [
    "#df_x = df.loc[:, df.columns != \"class\"]\n",
    "df_x = df[[\"fLength\", \"fWidth\", \"fSize\", \"fConc\"]]\n",
    "#fLength, fWidth, fSize, fConc\n",
    "df_y = df[\"class\"]"
   ]
  },
  {
   "cell_type": "code",
   "execution_count": 6,
   "metadata": {},
   "outputs": [
    {
     "data": {
      "text/plain": [
       "array(['g', 'h'], dtype=object)"
      ]
     },
     "execution_count": 6,
     "metadata": {},
     "output_type": "execute_result"
    }
   ],
   "source": [
    "df_y.unique()"
   ]
  },
  {
   "cell_type": "markdown",
   "metadata": {
    "id": "t9Asf63LInZR"
   },
   "source": [
    "# Step 2 - 8: PCA implementation \n",
    "\n"
   ]
  },
  {
   "cell_type": "markdown",
   "metadata": {
    "id": "KLnOaQigNjzM"
   },
   "source": [
    "# Step 2: Normalize the feature columns\n"
   ]
  },
  {
   "cell_type": "code",
   "execution_count": 7,
   "metadata": {
    "id": "d76FXPd0Nowz"
   },
   "outputs": [],
   "source": [
    "X_std = StandardScaler().fit_transform(df_x)"
   ]
  },
  {
   "cell_type": "markdown",
   "metadata": {
    "id": "0b1asdl_MCtf"
   },
   "source": [
    "# Eigen decomposition : Compute the eigen values and eigen vectors\n",
    "\n",
    "Step 3: \n",
    "Calculate the covariance between the feature columns. This should be a d x d matrix, where d is the number of features. \n",
    "$\\sigma_{jk} = \\frac{1}{n-1}\\sum_{i=1}^{N}\\left(  x_{ij}-\\bar{x}_j \\right)  \\left( x_{ik}-\\bar{x}_k \\right).$\n",
    "\n",
    "In matrix notation:   \n",
    "$\\Sigma = \\frac{1}{n-1} \\left( (\\mathbf{X} - \\mathbf{\\bar{x}})^T\\;(\\mathbf{X} - \\mathbf{\\bar{x}}) \\right)$  \n",
    "where $\\mathbf{\\bar{x}}$ is the mean vector"
   ]
  },
  {
   "cell_type": "code",
   "execution_count": 8,
   "metadata": {
    "id": "lF06OHpIMfCe",
    "scrolled": true
   },
   "outputs": [
    {
     "name": "stdout",
     "output_type": "stream",
     "text": [
      "Covariance matrix \n",
      "[[ 1.00005258  0.77055255  0.70249069 -0.63103226]\n",
      " [ 0.77055255  1.00005258  0.71755458 -0.60981073]\n",
      " [ 0.70249069  0.71755458  1.00005258 -0.85089453]\n",
      " [-0.63103226 -0.60981073 -0.85089453  1.00005258]]\n"
     ]
    }
   ],
   "source": [
    "import numpy as np\n",
    "mean_vec = np.mean(X_std, axis=0)\n",
    "cov_mat = (X_std - mean_vec).T.dot((X_std - mean_vec)) / (X_std.shape[0]-1)\n",
    "print('Covariance matrix \\n%s' %cov_mat)"
   ]
  },
  {
   "cell_type": "markdown",
   "metadata": {
    "id": "0_kdmJ42NqQK"
   },
   "source": [
    "# Step 4 : Finding the eigen values and eigen vectors that represent the feature space.\n",
    "\n",
    "The eigenvectors (principal components) will be used to determine the directions of the new feature space, and the eigenvalues determine their magnitude. In other words, the eigenvalues will explain the variance of the data along the feature axes.\n",
    "\n",
    "\n"
   ]
  },
  {
   "cell_type": "code",
   "execution_count": 9,
   "metadata": {
    "id": "xAyaAMsGODk0",
    "scrolled": true
   },
   "outputs": [
    {
     "name": "stdout",
     "output_type": "stream",
     "text": [
      "Eigenvectors \n",
      "[[-0.49298934 -0.4817745  -0.7240244   0.02536769]\n",
      " [-0.49210111 -0.51124326  0.66733742 -0.2261141 ]\n",
      " [-0.52186876  0.3554157   0.14553036  0.76167814]\n",
      " [ 0.49239315 -0.61660631  0.09628267  0.6066921 ]]\n",
      "\n",
      "Eigenvalues \n",
      "[3.14312868 0.49185862 0.23254418 0.13267883]\n"
     ]
    }
   ],
   "source": [
    "eig_vals, eig_vecs = np.linalg.eig(cov_mat)\n",
    "\n",
    "print('Eigenvectors \\n%s' %eig_vecs)\n",
    "print('\\nEigenvalues \\n%s' %eig_vals)"
   ]
  },
  {
   "cell_type": "markdown",
   "metadata": {
    "id": "1R68y5IVOFFG"
   },
   "source": [
    "# Step 5 : Consider k=2, Find k axes in the old feature space that contribute most to the variance of the data.\n",
    "\n",
    "where k is the number of principal components, i.e the number of axes in the new feature space.\n"
   ]
  },
  {
   "cell_type": "code",
   "execution_count": 10,
   "metadata": {
    "id": "Vf5wQpYgSaXe"
   },
   "outputs": [],
   "source": [
    "eig_pairs = [(np.abs(eig_vals[i]), eig_vecs[:,i]) for i in range(len(eig_vecs))]\n",
    "\n",
    "# Sort the (eigenvalue, eigenvector) tuples from high to low\n",
    "eig_pairs.sort(key=lambda x: x[0], reverse=True)\n",
    "eig_pairs2 = [eig_pairs[0], eig_pairs[1]]\n"
   ]
  },
  {
   "cell_type": "code",
   "execution_count": 11,
   "metadata": {},
   "outputs": [
    {
     "data": {
      "text/plain": [
       "[(3.143128684822533,\n",
       "  array([-0.49298934, -0.49210111, -0.52186876,  0.49239315])),\n",
       " (0.49185862205169245,\n",
       "  array([-0.4817745 , -0.51124326,  0.3554157 , -0.61660631]))]"
      ]
     },
     "execution_count": 11,
     "metadata": {},
     "output_type": "execute_result"
    }
   ],
   "source": [
    "eig_pairs2"
   ]
  },
  {
   "cell_type": "markdown",
   "metadata": {
    "id": "SJbDAAZbSb9V"
   },
   "source": [
    "# Step 6: Compute the projection matrix\n",
    "\n",
    "The projection matrix will be of dimension d x k. This matrix will be used in the next step to project the data points in the old feature space to the newly calculated feature space.\n",
    "\n",
    "Note: The dimension of old feature space is d, whereas the new feature space is k.\n"
   ]
  },
  {
   "cell_type": "code",
   "execution_count": 12,
   "metadata": {
    "id": "bv-KpB-nTwTm"
   },
   "outputs": [
    {
     "name": "stdout",
     "output_type": "stream",
     "text": [
      "Matrix W:\n",
      " [[-0.49298934 -0.4817745 ]\n",
      " [-0.49210111 -0.51124326]\n",
      " [-0.52186876  0.3554157 ]\n",
      " [ 0.49239315 -0.61660631]]\n"
     ]
    }
   ],
   "source": [
    "matrix_w = np.hstack((eig_pairs2[0][1].reshape(4,1), \n",
    "                      eig_pairs2[1][1].reshape(4,1)))\n",
    "\n",
    "print('Matrix W:\\n', matrix_w)"
   ]
  },
  {
   "cell_type": "markdown",
   "metadata": {
    "id": "lNY3eGjbTxNW"
   },
   "source": [
    "# Step 7: Project the data points onto the new feature space\n",
    "\n",
    "The output of this step should be a matrix with dimension, no.of.samples x k"
   ]
  },
  {
   "cell_type": "code",
   "execution_count": 13,
   "metadata": {
    "id": "56OYihljUa0J"
   },
   "outputs": [],
   "source": [
    "Y = X_std.dot(matrix_w)"
   ]
  },
  {
   "cell_type": "markdown",
   "metadata": {
    "id": "peCs2McwWoiL"
   },
   "source": [
    "# Step 8: Plot the new data points as a scatter plot\n",
    "\n",
    "Visualize the new data points on a plot."
   ]
  },
  {
   "cell_type": "code",
   "execution_count": 14,
   "metadata": {
    "id": "0EaiioGeXMeu"
   },
   "outputs": [
    {
     "data": {
      "image/png": "[encoded data removed]",
      "text/plain": [
       "<Figure size 432x288 with 1 Axes>"
      ]
     },
     "metadata": {},
     "output_type": "display_data"
    }
   ],
   "source": [
    "with plt.style.context('seaborn-whitegrid'):\n",
    "    plt.figure(figsize=(6, 4))\n",
    "    for lab, col in zip(('g', 'h'), \n",
    "                        ('blue', 'red')):\n",
    "        plt.scatter(Y[df_y==lab, 0],\n",
    "                    Y[df_y==lab, 1],\n",
    "                    label=lab,\n",
    "                    c=col)\n",
    "    plt.xlabel('Principal Component 1')\n",
    "    plt.ylabel('Principal Component 2')\n",
    "    plt.legend(loc='lower center')\n",
    "    plt.tight_layout()\n"
   ]
  },
  {
   "cell_type": "markdown",
   "metadata": {},
   "source": [
    "# Step 9 - 14 Linear Discriminant Analysis"
   ]
  },
  {
   "cell_type": "markdown",
   "metadata": {},
   "source": [
    "# Step 9 - Prepare the dataset"
   ]
  },
  {
   "cell_type": "code",
   "execution_count": 15,
   "metadata": {},
   "outputs": [],
   "source": [
    "# Import the dataset again from step 1.\n",
    "\"\"\"\n",
    "Make sure that the data is normalized and all the null values are removed.\n",
    "\"\"\"\n",
    "# Insert code below this line\n",
    "\n",
    "df2 = pd.read_csv('telescope.csv')\n",
    "del df2['Unnamed: 0']\n",
    "\n",
    "df2_x = df2[[\"fLength\", \"fWidth\", \"fSize\", \"fConc\"]]\n",
    "df2_y = df2[\"class\"]\n",
    "\n",
    "X2_std = StandardScaler().fit_transform(df2_x)"
   ]
  },
  {
   "cell_type": "code",
   "execution_count": 16,
   "metadata": {},
   "outputs": [],
   "source": [
    "X = X2_std\n",
    "df2_y_values = df2_y.values"
   ]
  },
  {
   "cell_type": "code",
   "execution_count": 17,
   "metadata": {},
   "outputs": [],
   "source": [
    "y = []\n",
    "\n",
    "for i in df2_y_values:\n",
    "    y.append(1 if i == \"g\" else 2)\n",
    "    \n",
    "y = np.array(y)\n",
    "\n",
    "label_dict = {1: 'g', 2: 'h'}"
   ]
  },
  {
   "cell_type": "markdown",
   "metadata": {},
   "source": [
    "# Step 10 - Computing d-dimensional mean vectors"
   ]
  },
  {
   "cell_type": "markdown",
   "metadata": {},
   "source": [
    "In this first step, we will start off with a simple computation of the mean vectors $\\pmb m_i$, $(i = 1,2,3,..)$ of the different classes:\n",
    "    \n",
    "$\\pmb m_i = \\begin{bmatrix} \n",
    "\\mu_{\\omega_i (\\text{feature 1})}\\\\ \n",
    "\\mu_{\\omega_i (\\text{feature 2})}\\\\ \n",
    "\\mu_{\\omega_i (\\text{feature 3)}}\\\\\n",
    "\\mu_{\\omega_i (\\text{feature 4})}\\\\\n",
    "\\end{bmatrix} \\; , \\quad \\text{with} \\quad i = 1,2,3,...$"
   ]
  },
  {
   "cell_type": "code",
   "execution_count": 18,
   "metadata": {},
   "outputs": [],
   "source": [
    "classes = df2_y.unique()"
   ]
  },
  {
   "cell_type": "code",
   "execution_count": 19,
   "metadata": {},
   "outputs": [],
   "source": [
    "np.set_printoptions(precision=4)\n",
    "\n",
    "mean_vectors = []\n",
    "for cl in range(1,3):\n",
    "    mean_vectors.append(np.mean(X[y==cl], axis=0))"
   ]
  },
  {
   "cell_type": "code",
   "execution_count": 20,
   "metadata": {},
   "outputs": [
    {
     "data": {
      "text/plain": [
       "[array([-0.2265, -0.1956, -0.0867,  0.0181]),\n",
       " array([ 0.4177,  0.3607,  0.16  , -0.0334])]"
      ]
     },
     "execution_count": 20,
     "metadata": {},
     "output_type": "execute_result"
    }
   ],
   "source": [
    "mean_vectors"
   ]
  },
  {
   "cell_type": "markdown",
   "metadata": {},
   "source": [
    "# Step 11 - Computing the Scatter Matrices"
   ]
  },
  {
   "cell_type": "markdown",
   "metadata": {},
   "source": [
    "## 11.1 Within-class scatter matrix $S_W$"
   ]
  },
  {
   "cell_type": "markdown",
   "metadata": {},
   "source": [
    "The **within-class scatter** matrix $S_W$ is computed by the following equation:  \n",
    "\n",
    "$S_W = \\sum\\limits_{i=1}^{c}  S_i$\n",
    "\n",
    "where  \n",
    "$S_i = \\sum\\limits_{\\pmb x \\in D_i}^n (\\pmb x - \\pmb m_i)\\;(\\pmb x - \\pmb m_i)^T$  \n",
    "(scatter matrix for every class) \n",
    "\n",
    "and $\\pmb m_i$ is the mean vector    \n",
    "$\\pmb m_i = \\frac{1}{n_i} \\sum\\limits_{\\pmb x \\in D_i}^n \\; \\pmb x_k$"
   ]
  },
  {
   "cell_type": "code",
   "execution_count": 21,
   "metadata": {},
   "outputs": [
    {
     "name": "stdout",
     "output_type": "stream",
     "text": [
      "within-class Scatter Matrix:\n",
      " [[ 17220.6949  13101.3934  12671.5693 -11857.607 ]\n",
      " [ 13101.3934  17678.3013  13052.1142 -11473.6465]\n",
      " [ 12671.5693  13052.1142  18756.0867 -16128.0155]\n",
      " [-11857.607  -11473.6465 -16128.0155  19008.4763]]\n"
     ]
    }
   ],
   "source": [
    "S_W = np.zeros((4,4))\n",
    "for cl,mv in zip(range(1,3), mean_vectors):\n",
    "    class_sc_mat = np.zeros((4,4))                  # scatter matrix for every class\n",
    "    for row in X[y == cl]:\n",
    "        row, mv = row.reshape(4,1), mv.reshape(4,1) # make column vectors\n",
    "        class_sc_mat += (row-mv).dot((row-mv).T)\n",
    "    S_W += class_sc_mat                             # sum class scatter matrices\n",
    "print('within-class Scatter Matrix:\\n', S_W)"
   ]
  },
  {
   "cell_type": "markdown",
   "metadata": {},
   "source": [
    "## 11.2 Between-class matrix $S_B$"
   ]
  },
  {
   "cell_type": "markdown",
   "metadata": {},
   "source": [
    "The **between-class scatter** matrix $S_B$ is computed by the following equation:  \n",
    "\n",
    "$S_B =  \\sum\\limits_{i=1}^{c} N_{i} (\\pmb m_i - \\pmb m) (\\pmb m_i - \\pmb m)^T$\n",
    "\n",
    "where  \n",
    " $\\pmb m$ is the overall mean, and $\\pmb m_{i}$ and $N_{i}$ are the sample mean and sizes of the respective classes."
   ]
  },
  {
   "cell_type": "code",
   "execution_count": 22,
   "metadata": {},
   "outputs": [
    {
     "name": "stdout",
     "output_type": "stream",
     "text": [
      "between-class Scatter Matrix:\n",
      " [[1799.3051 1553.7456  689.1012 -143.9955]\n",
      " [1553.7456 1341.6987  595.0564 -124.3437]\n",
      " [ 689.1012  595.0564  263.9133  -55.1477]\n",
      " [-143.9955 -124.3437  -55.1477   11.5237]]\n"
     ]
    }
   ],
   "source": [
    "overall_mean = np.mean(X, axis=0)\n",
    "\n",
    "S_B = np.zeros((4,4))\n",
    "for i,mean_vec in enumerate(mean_vectors):  \n",
    "    n = X[y==i+1,:].shape[0]\n",
    "    mean_vec = mean_vec.reshape(4,1) # make column vector\n",
    "    overall_mean = overall_mean.reshape(4,1) # make column vector\n",
    "    S_B += n * (mean_vec - overall_mean).dot((mean_vec - overall_mean).T)\n",
    "    \n",
    "print('between-class Scatter Matrix:\\n', S_B)"
   ]
  },
  {
   "cell_type": "markdown",
   "metadata": {},
   "source": [
    "# Step 12: Solving the generalized eigenvalue problem for the matrix $S_{W}^{-1}S_B$"
   ]
  },
  {
   "cell_type": "markdown",
   "metadata": {},
   "source": [
    "Next, we will solve the generalized eigenvalue problem for the matrix $S_{W}^{-1}S_B$ to obtain the linear discriminants."
   ]
  },
  {
   "cell_type": "code",
   "execution_count": 23,
   "metadata": {},
   "outputs": [
    {
     "name": "stdout",
     "output_type": "stream",
     "text": [
      "\n",
      "Eigenvector 1: \n",
      "[[0.7247]\n",
      " [0.3167]\n",
      " [0.0102]\n",
      " [0.6119]]\n",
      "Eigenvalue 1: 1.80e-01\n",
      "\n",
      "Eigenvector 2: \n",
      "[[-0.3163]\n",
      " [ 0.2664]\n",
      " [ 0.3966]\n",
      " [ 0.8196]]\n",
      "Eigenvalue 2: 1.56e-17\n",
      "\n",
      "Eigenvector 3: \n",
      "[[-0.2682]\n",
      " [ 0.4265]\n",
      " [-0.4192]\n",
      " [-0.7553]]\n",
      "Eigenvalue 3: -1.88e-17\n",
      "\n",
      "Eigenvector 4: \n",
      "[[ 0.1121]\n",
      " [-0.0636]\n",
      " [ 0.0574]\n",
      " [ 0.99  ]]\n",
      "Eigenvalue 4: -7.73e-18\n"
     ]
    }
   ],
   "source": [
    "eig_vals, eig_vecs = np.linalg.eig(np.linalg.inv(S_W).dot(S_B))\n",
    "\n",
    "for i in range(len(eig_vals)):\n",
    "    eigvec_sc = eig_vecs[:,i].reshape(4,1)   \n",
    "    print('\\nEigenvector {}: \\n{}'.format(i+1, eigvec_sc.real))\n",
    "    print('Eigenvalue {:}: {:.2e}'.format(i+1, eig_vals[i].real))"
   ]
  },
  {
   "cell_type": "code",
   "execution_count": 24,
   "metadata": {},
   "outputs": [
    {
     "data": {
      "text/plain": [
       "array([ 1.8047e-01,  1.5575e-17, -1.8779e-17, -7.7268e-18])"
      ]
     },
     "execution_count": 24,
     "metadata": {},
     "output_type": "execute_result"
    }
   ],
   "source": [
    "eig_vals"
   ]
  },
  {
   "cell_type": "code",
   "execution_count": 25,
   "metadata": {},
   "outputs": [
    {
     "data": {
      "text/plain": [
       "array([[ 0.7247, -0.3163, -0.2682,  0.1121],\n",
       "       [ 0.3167,  0.2664,  0.4265, -0.0636],\n",
       "       [ 0.0102,  0.3966, -0.4192,  0.0574],\n",
       "       [ 0.6119,  0.8196, -0.7553,  0.99  ]])"
      ]
     },
     "execution_count": 25,
     "metadata": {},
     "output_type": "execute_result"
    }
   ],
   "source": [
    "eig_vecs"
   ]
  },
  {
   "cell_type": "markdown",
   "metadata": {},
   "source": [
    "### Checking the eigenvector-eigenvalue calculation"
   ]
  },
  {
   "cell_type": "markdown",
   "metadata": {},
   "source": [
    "A quick check that the eigenvector-eigenvalue calculation is correct and satisfy the equation:\n",
    "\n",
    "$\\pmb A\\pmb{v} =  \\lambda\\pmb{v}$  \n",
    "\n",
    "<br>\n",
    "where  \n",
    "$\\pmb A = S_{W}^{-1}S_B\\\\\n",
    "\\pmb{v} = \\; \\text{Eigenvector}\\\\\n",
    "\\lambda = \\; \\text{Eigenvalue}$"
   ]
  },
  {
   "cell_type": "code",
   "execution_count": 26,
   "metadata": {},
   "outputs": [],
   "source": [
    "for i in range(len(eig_vals)):\n",
    "    eigv = eig_vecs[:,i].reshape(4,1) \n",
    "    np.testing.assert_array_almost_equal(np.linalg.inv(S_W).dot(S_B).dot(eigv), \n",
    "                                         eig_vals[i] * eigv, \n",
    "                                         decimal=6, err_msg='', verbose=True)\n",
    "\n",
    "# This cell must run without errors"
   ]
  },
  {
   "cell_type": "markdown",
   "metadata": {},
   "source": [
    "## Step 13: Selecting linear discriminants for the new feature subspace"
   ]
  },
  {
   "cell_type": "markdown",
   "metadata": {},
   "source": [
    "So, in order to decide which eigenvector(s) we want to drop for our lower-dimensional subspace, we have to take a look at the corresponding eigenvalues of the eigenvectors. Roughly speaking, the eigenvectors with the lowest eigenvalues bear the least information about the distribution of the data, and those are the ones we want to drop.  \n",
    "The common approach is to rank the eigenvectors from highest to lowest corresponding eigenvalue and choose the top $k$ eigenvectors."
   ]
  },
  {
   "cell_type": "code",
   "execution_count": 27,
   "metadata": {},
   "outputs": [
    {
     "name": "stdout",
     "output_type": "stream",
     "text": [
      "Eigenvalues in decreasing order:\n",
      "\n",
      "0.18046675374943777\n",
      "1.8778952387898752e-17\n",
      "1.5574691503932433e-17\n",
      "7.726769904495566e-18\n"
     ]
    }
   ],
   "source": [
    "# Eigenvalues in decreasing order:\n",
    "\n",
    "# Make a list of (eigenvalue, eigenvector) tuples\n",
    "eig_pairs = [(np.abs(eig_vals[i]), eig_vecs[:,i]) for i in range(len(eig_vals))]\n",
    "\n",
    "# Sort the (eigenvalue, eigenvector) tuples from high to low\n",
    "eig_pairs = sorted(eig_pairs, key=lambda k: k[0], reverse=True)\n",
    "\n",
    "# Visually confirm that the list is correctly sorted by decreasing eigenvalues\n",
    "\n",
    "print('Eigenvalues in decreasing order:\\n')\n",
    "for i in eig_pairs:\n",
    "    print(i[0])"
   ]
  },
  {
   "cell_type": "markdown",
   "metadata": {},
   "source": [
    "# 13.1. Choosing *k* eigenvectors with the largest eigenvalues"
   ]
  },
  {
   "cell_type": "markdown",
   "metadata": {},
   "source": [
    "After sorting the eigenpairs by decreasing eigenvalues, it is now time to construct our $d \\times k$-dimensional eigenvector matrix $\\pmb W$ (here $4 \\times 2$: based on the 2 most informative eigenpairs) and thereby reducing the initial 4-dimensional feature space into a 2-dimensional feature subspace."
   ]
  },
  {
   "cell_type": "code",
   "execution_count": 28,
   "metadata": {},
   "outputs": [
    {
     "name": "stdout",
     "output_type": "stream",
     "text": [
      "Matrix W:\n",
      " [[ 0.7247 -0.2682]\n",
      " [ 0.3167  0.4265]\n",
      " [ 0.0102 -0.4192]\n",
      " [ 0.6119 -0.7553]]\n"
     ]
    }
   ],
   "source": [
    "# Tip: use np.hstack\n",
    "\n",
    "W = np.hstack((eig_pairs[0][1].reshape(4,1), eig_pairs[1][1].reshape(4,1)))\n",
    "print('Matrix W:\\n', W.real)"
   ]
  },
  {
   "cell_type": "markdown",
   "metadata": {},
   "source": [
    "# Step 14: Transforming the samples onto the new subspace"
   ]
  },
  {
   "cell_type": "markdown",
   "metadata": {},
   "source": [
    "In the last step, we use the $4 \\times 2$-dimensional matrix $\\pmb W$ that we just computed to transform our samples onto the new subspace via the equation   \n",
    "\n",
    "$\\pmb Y = \\pmb X \\times \\pmb W $.\n",
    "\n",
    "(where $\\pmb X$ is a $n \\times d$-dimensional matrix representing the $n$ samples, and $\\pmb Y$ are the transformed $n \\times k$-dimensional samples in the new subspace)."
   ]
  },
  {
   "cell_type": "code",
   "execution_count": 29,
   "metadata": {},
   "outputs": [],
   "source": [
    "X_lda = X.dot(W)\n"
   ]
  },
  {
   "cell_type": "code",
   "execution_count": 30,
   "metadata": {},
   "outputs": [
    {
     "data": {
      "text/plain": [
       "array([[-0.4905,  0.1235],\n",
       "       [-0.0555, -0.4538],\n",
       "       [ 2.7056,  2.2784],\n",
       "       ...,\n",
       "       [ 0.032 ,  0.8818],\n",
       "       [ 1.1635,  0.9908],\n",
       "       [ 2.5211, -0.0892]])"
      ]
     },
     "execution_count": 30,
     "metadata": {},
     "output_type": "execute_result"
    }
   ],
   "source": [
    "X_lda"
   ]
  },
  {
   "cell_type": "markdown",
   "metadata": {},
   "source": [
    "# A comparison of PCA and LDA"
   ]
  },
  {
   "cell_type": "code",
   "execution_count": 31,
   "metadata": {},
   "outputs": [],
   "source": [
    "# Sample code for the penguins and Iris dataset visualization.\n",
    "# Do not change the code here.\n",
    "# Code written in this cell is not graded but is used to grade the output of code from previous cells.\n",
    "\n",
    "from sklearn.decomposition import PCA as sklearnPCA\n",
    "\n",
    "sklearn_pca = sklearnPCA(n_components=2)\n",
    "X_pca = sklearn_pca.fit_transform(X)\n",
    "\n",
    "def plot_pca():\n",
    "\n",
    "    ax = plt.subplot(111)\n",
    "    \n",
    "    for label,marker,color in zip(\n",
    "        range(1,3),('^', 's'),('blue', 'red')):\n",
    "\n",
    "        plt.scatter(x=X_pca[:,0][y == label],\n",
    "                y=X_pca[:,1][y == label],\n",
    "                marker=marker,\n",
    "                color=color,\n",
    "                alpha=0.5,\n",
    "                label=label_dict[label]\n",
    "                )\n",
    "\n",
    "    plt.xlabel('PC1')\n",
    "    plt.ylabel('PC2')\n",
    "\n",
    "    leg = plt.legend(loc='upper right', fancybox=True)\n",
    "    leg.get_frame().set_alpha(0.5)\n",
    "    plt.title('PCA: projection onto the first 2 principal components')\n",
    "\n",
    "    # hide axis ticks\n",
    "    plt.tick_params(axis=\"both\", which=\"both\", bottom=\"off\", top=\"off\",  \n",
    "            labelbottom=\"on\", left=\"off\", right=\"off\", labelleft=\"on\")\n",
    "\n",
    "    # remove axis spines\n",
    "    ax.spines[\"top\"].set_visible(False)  \n",
    "    ax.spines[\"right\"].set_visible(False) \n",
    "    ax.spines[\"bottom\"].set_visible(False) \n",
    "    ax.spines[\"left\"].set_visible(False)    \n",
    "    \n",
    "    plt.tight_layout\n",
    "    plt.grid()\n",
    "    \n",
    "    plt.show()"
   ]
  },
  {
   "cell_type": "code",
   "execution_count": 32,
   "metadata": {},
   "outputs": [],
   "source": [
    "def plot_step_lda():\n",
    "    \n",
    "    ax = plt.subplot(111)\n",
    "    for label,marker,color in zip(\n",
    "        range(1,3),('^', 's'),('blue', 'red')):\n",
    "\n",
    "        plt.scatter(x=X_lda[:,0].real[y == label],\n",
    "                y=X_lda[:,1].real[y == label],\n",
    "                marker=marker,\n",
    "                color=color,\n",
    "                alpha=0.5,\n",
    "                label=label_dict[label]\n",
    "                )\n",
    "\n",
    "    plt.xlabel('LD1')\n",
    "    plt.ylabel('LD2')\n",
    "\n",
    "    leg = plt.legend(loc='upper right', fancybox=True)\n",
    "    leg.get_frame().set_alpha(0.5)\n",
    "    plt.title('LDA: Iris projection onto the first 2 linear discriminants')\n",
    "    \n",
    "    # hide axis ticks\n",
    "    plt.tick_params(axis=\"both\", which=\"both\", bottom=\"off\", top=\"off\",  \n",
    "            labelbottom=\"on\", left=\"off\", right=\"off\", labelleft=\"on\")\n",
    "\n",
    "    # remove axis spines\n",
    "    ax.spines[\"top\"].set_visible(False)  \n",
    "    ax.spines[\"right\"].set_visible(False) \n",
    "    ax.spines[\"bottom\"].set_visible(False) \n",
    "    ax.spines[\"left\"].set_visible(False)    \n",
    " \n",
    "    plt.grid()\n",
    "    plt.tight_layout\n",
    "    plt.show()"
   ]
  },
  {
   "cell_type": "code",
   "execution_count": 33,
   "metadata": {
    "scrolled": false
   },
   "outputs": [
    {
     "data": {
      "image/png": "[encoded data removed]",
      "text/plain": [
       "<Figure size 432x288 with 1 Axes>"
      ]
     },
     "metadata": {
      "needs_background": "light"
     },
     "output_type": "display_data"
    }
   ],
   "source": [
    "plot_pca()"
   ]
  },
  {
   "cell_type": "code",
   "execution_count": 34,
   "metadata": {},
   "outputs": [
    {
     "data": {
      "image/png": "[encoded data removed]",
      "text/plain": [
       "<Figure size 432x288 with 1 Axes>"
      ]
     },
     "metadata": {
      "needs_background": "light"
     },
     "output_type": "display_data"
    }
   ],
   "source": [
    "plot_step_lda()"
   ]
  }
 ],
 "metadata": {
  "colab": {
   "provenance": []
  },
  "kernelspec": {
   "display_name": "Python 3 (ipykernel)",
   "language": "python",
   "name": "python3"
  },
  "language_info": {
   "codemirror_mode": {
    "name": "ipython",
    "version": 3
   },
   "file_extension": ".py",
   "mimetype": "text/x-python",
   "name": "python",
   "nbconvert_exporter": "python",
   "pygments_lexer": "ipython3",
   "version": "3.8.5"
  }
 },
 "nbformat": 4,
 "nbformat_minor": 1
}
